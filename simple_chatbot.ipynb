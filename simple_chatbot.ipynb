{
 "cells": [
  {
   "cell_type": "code",
   "execution_count": 1,
   "id": "0267fb8f-8619-440f-b5c2-67bc36123e7e",
   "metadata": {},
   "outputs": [],
   "source": [
    "# import the regular expression module to handle pattern matching\n",
    "import re"
   ]
  },
  {
   "cell_type": "code",
   "execution_count": 11,
   "id": "8e705b2d-ffc8-42b7-b0d7-b2b469cd1be7",
   "metadata": {},
   "outputs": [],
   "source": [
    "def welcome():\n",
    "    print(\"chatbot: hello! I'm here to assist you.(type 'bye' to exit)\")"
   ]
  },
  {
   "cell_type": "code",
   "execution_count": 19,
   "id": "1622ae82-1514-4ed9-ba41-1ba316411117",
   "metadata": {},
   "outputs": [],
   "source": [
    "#create a dictionary that map the keyword to pre defined responses\n",
    "responses={\n",
    "    \"hello\":\"Hi there! how can I assist you today?\",\n",
    "    \"hi\":\"Hello! How can I help you?\",\n",
    "    \"how are you\":\"I'm just a bot,but I'm doing great! How about you?\",\n",
    "    \"what is your name\":\"I'm a chatbot created to assist you.\",\n",
    "    \"help\":\"Sure,I'm here to help.What do you need assistance with?\",\n",
    "    \"bye\":\"GoodBye ! Have a great day!\",\n",
    "    \"thank you\":\"You're welcome! I'm happy to help you.\",\n",
    "}\n",
    "default=\"I'm not sure I understand.Could you please rephrase?\""
   ]
  },
  {
   "cell_type": "code",
   "execution_count": 21,
   "id": "8b9d9573-7e3a-4995-bb24-1c297b3f71de",
   "metadata": {},
   "outputs": [],
   "source": [
    "#function to find the appropriate response based on the user's input\n",
    "def chatbot_response(user_input):\n",
    "    #convert user input to lowercase to make matching case-insenstive\n",
    "    user_input=user_input.lower()\n",
    "\n",
    "    for keyword in responses:\n",
    "        if re.search(keyword,user_input):\n",
    "            return responses[keyword]\n",
    "    return default\n",
    "    "
   ]
  },
  {
   "cell_type": "code",
   "execution_count": 23,
   "id": "4440e06c-54ad-4f2c-827a-a5107c00f80a",
   "metadata": {},
   "outputs": [
    {
     "name": "stdout",
     "output_type": "stream",
     "text": [
      "chatbot: hello! I'm here to assist you.(type 'bye' to exit)\n"
     ]
    },
    {
     "name": "stdin",
     "output_type": "stream",
     "text": [
      "You:  hey\n"
     ]
    },
    {
     "name": "stdout",
     "output_type": "stream",
     "text": [
      "chatbot:I'm not sure I understand.Could you please rephrase?\n"
     ]
    },
    {
     "name": "stdin",
     "output_type": "stream",
     "text": [
      "You:  hi\n"
     ]
    },
    {
     "name": "stdout",
     "output_type": "stream",
     "text": [
      "chatbot:Hello! How can I help you?\n"
     ]
    },
    {
     "name": "stdin",
     "output_type": "stream",
     "text": [
      "You:  what is your name\n"
     ]
    },
    {
     "name": "stdout",
     "output_type": "stream",
     "text": [
      "chatbot:I'm a chatbot created to assist you.\n"
     ]
    },
    {
     "name": "stdin",
     "output_type": "stream",
     "text": [
      "You:  help\n"
     ]
    },
    {
     "name": "stdout",
     "output_type": "stream",
     "text": [
      "chatbot:Sure,I'm here to help.What do you need assistance with?\n"
     ]
    },
    {
     "name": "stdin",
     "output_type": "stream",
     "text": [
      "You:  do ypu know my name\n"
     ]
    },
    {
     "name": "stdout",
     "output_type": "stream",
     "text": [
      "chatbot:I'm not sure I understand.Could you please rephrase?\n"
     ]
    },
    {
     "name": "stdin",
     "output_type": "stream",
     "text": [
      "You:  then bye\n"
     ]
    },
    {
     "name": "stdout",
     "output_type": "stream",
     "text": [
      "chatbot:GoodBye ! Have a great day!\n"
     ]
    },
    {
     "name": "stdin",
     "output_type": "stream",
     "text": [
      "You:  bye\n"
     ]
    },
    {
     "name": "stdout",
     "output_type": "stream",
     "text": [
      "chatbot : Goodbye! Have a great day!\n"
     ]
    }
   ],
   "source": [
    "#Main function to run the chatbot\n",
    "def chatbot():\n",
    "    welcome()\n",
    "    while True:\n",
    "        #get user input\n",
    "        user_input=input(\"You: \")\n",
    "        #if user types 'bye', exit the loop\n",
    "        if user_input.lower()=='bye':\n",
    "            print(\"chatbot : Goodbye! Have a great day!\")\n",
    "            break\n",
    "        #get chatbot's response based on user_input\n",
    "        response=chatbot_response(user_input)\n",
    "        #print chatbot's response\n",
    "        print(f\"chatbot:{response}\")\n",
    "#run the chatbot\n",
    "chatbot()"
   ]
  },
  {
   "cell_type": "code",
   "execution_count": null,
   "id": "9b99e07f-5bf7-48a7-a519-e6e811919127",
   "metadata": {},
   "outputs": [],
   "source": []
  }
 ],
 "metadata": {
  "kernelspec": {
   "display_name": "Python 3 (ipykernel)",
   "language": "python",
   "name": "python3"
  },
  "language_info": {
   "codemirror_mode": {
    "name": "ipython",
    "version": 3
   },
   "file_extension": ".py",
   "mimetype": "text/x-python",
   "name": "python",
   "nbconvert_exporter": "python",
   "pygments_lexer": "ipython3",
   "version": "3.12.4"
  }
 },
 "nbformat": 4,
 "nbformat_minor": 5
}
